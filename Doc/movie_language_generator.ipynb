{
 "cells": [
  {
   "cell_type": "code",
   "execution_count": 1,
   "metadata": {},
   "outputs": [],
   "source": [
    "import pandas as pd\n",
    "import numpy as np\n",
    "import ast"
   ]
  },
  {
   "cell_type": "code",
   "execution_count": 2,
   "metadata": {},
   "outputs": [],
   "source": [
    "data  = pd.read_pickle('data/movies_metadata.pkl')"
   ]
  },
  {
   "cell_type": "code",
   "execution_count": null,
   "metadata": {},
   "outputs": [],
   "source": [
    "# data[data.production_countries.isnull()]"
   ]
  },
  {
   "cell_type": "markdown",
   "metadata": {},
   "source": [
    "## spoken language"
   ]
  },
  {
   "cell_type": "code",
   "execution_count": 4,
   "metadata": {},
   "outputs": [
    {
     "name": "stdout",
     "output_type": "stream",
     "text": [
      "error in movie_id:82663, language_info:nan\n",
      "error in movie_id:122662, language_info:nan\n",
      "error in movie_id:249260, language_info:nan\n"
     ]
    }
   ],
   "source": [
    "language_dict = dict()\n",
    "movie_spoken_language_list = []\n",
    "for movie_id, language_info in zip(data.id, data.spoken_languages):\n",
    "    try:\n",
    "        language_list = ast.literal_eval(language_info)\n",
    "        for ind_language_list in language_list:\n",
    "            movie_spoken_language_dict = dict()\n",
    "            language_code = ind_language_list.get('iso_639_1')\n",
    "            if ind_language_list.get('iso_639_1') in language_dict:\n",
    "                pass\n",
    "            else:\n",
    "                language_name = ind_language_list.get('name')\n",
    "                language_dict[language_code] = language_name\n",
    "            movie_spoken_language_dict['movie_id'] = movie_id\n",
    "            movie_spoken_language_dict['language_code'] = language_code\n",
    "            movie_spoken_language_list.append(movie_spoken_language_dict)\n",
    "    except:\n",
    "        print(f'error in movie_id:{movie_id}, language_info:{language_info}')"
   ]
  },
  {
   "cell_type": "code",
   "execution_count": 5,
   "metadata": {},
   "outputs": [],
   "source": [
    "language_df = pd.DataFrame.from_dict(language_dict, orient='index', columns = ['language_name'])\n",
    "language_df['language_code'] = language_df.index\n",
    "language_df = language_df.reset_index(drop = True)"
   ]
  },
  {
   "cell_type": "code",
   "execution_count": 7,
   "metadata": {},
   "outputs": [
    {
     "data": {
      "text/html": [
       "<div>\n",
       "<style scoped>\n",
       "    .dataframe tbody tr th:only-of-type {\n",
       "        vertical-align: middle;\n",
       "    }\n",
       "\n",
       "    .dataframe tbody tr th {\n",
       "        vertical-align: top;\n",
       "    }\n",
       "\n",
       "    .dataframe thead th {\n",
       "        text-align: right;\n",
       "    }\n",
       "</style>\n",
       "<table border=\"1\" class=\"dataframe\">\n",
       "  <thead>\n",
       "    <tr style=\"text-align: right;\">\n",
       "      <th></th>\n",
       "      <th>language_code</th>\n",
       "      <th>language_name</th>\n",
       "    </tr>\n",
       "  </thead>\n",
       "  <tbody>\n",
       "    <tr>\n",
       "      <th>13</th>\n",
       "      <td>fa</td>\n",
       "      <td>فارسی</td>\n",
       "    </tr>\n",
       "    <tr>\n",
       "      <th>50</th>\n",
       "      <td>bg</td>\n",
       "      <td>български език</td>\n",
       "    </tr>\n",
       "    <tr>\n",
       "      <th>28</th>\n",
       "      <td>cs</td>\n",
       "      <td>Český</td>\n",
       "    </tr>\n",
       "    <tr>\n",
       "      <th>101</th>\n",
       "      <td>et</td>\n",
       "      <td>Eesti</td>\n",
       "    </tr>\n",
       "    <tr>\n",
       "      <th>18</th>\n",
       "      <td>hr</td>\n",
       "      <td>Hrvatski</td>\n",
       "    </tr>\n",
       "  </tbody>\n",
       "</table>\n",
       "</div>"
      ],
      "text/plain": [
       "    language_code   language_name\n",
       "13             fa           فارسی\n",
       "50             bg  български език\n",
       "28             cs           Český\n",
       "101            et           Eesti\n",
       "18             hr        Hrvatski"
      ]
     },
     "execution_count": 7,
     "metadata": {},
     "output_type": "execute_result"
    }
   ],
   "source": [
    "language_df = language_df[['language_code','language_name']]\n",
    "language_df.sample(5)"
   ]
  },
  {
   "cell_type": "code",
   "execution_count": 9,
   "metadata": {},
   "outputs": [],
   "source": [
    "movie_spoken_language_df = pd.DataFrame(movie_spoken_language_list)\n",
    "movie_spoken_language_df['movie_language_id'] = movie_spoken_language_df.index"
   ]
  },
  {
   "cell_type": "code",
   "execution_count": 10,
   "metadata": {},
   "outputs": [
    {
     "data": {
      "text/html": [
       "<div>\n",
       "<style scoped>\n",
       "    .dataframe tbody tr th:only-of-type {\n",
       "        vertical-align: middle;\n",
       "    }\n",
       "\n",
       "    .dataframe tbody tr th {\n",
       "        vertical-align: top;\n",
       "    }\n",
       "\n",
       "    .dataframe thead th {\n",
       "        text-align: right;\n",
       "    }\n",
       "</style>\n",
       "<table border=\"1\" class=\"dataframe\">\n",
       "  <thead>\n",
       "    <tr style=\"text-align: right;\">\n",
       "      <th></th>\n",
       "      <th>movie_language_id</th>\n",
       "      <th>movie_id</th>\n",
       "      <th>language_code</th>\n",
       "    </tr>\n",
       "  </thead>\n",
       "  <tbody>\n",
       "    <tr>\n",
       "      <th>29006</th>\n",
       "      <td>29006</td>\n",
       "      <td>161315</td>\n",
       "      <td>en</td>\n",
       "    </tr>\n",
       "    <tr>\n",
       "      <th>16303</th>\n",
       "      <td>16303</td>\n",
       "      <td>10030</td>\n",
       "      <td>en</td>\n",
       "    </tr>\n",
       "    <tr>\n",
       "      <th>41164</th>\n",
       "      <td>41164</td>\n",
       "      <td>258947</td>\n",
       "      <td>en</td>\n",
       "    </tr>\n",
       "    <tr>\n",
       "      <th>15901</th>\n",
       "      <td>15901</td>\n",
       "      <td>38907</td>\n",
       "      <td>ro</td>\n",
       "    </tr>\n",
       "    <tr>\n",
       "      <th>24108</th>\n",
       "      <td>24108</td>\n",
       "      <td>58192</td>\n",
       "      <td>en</td>\n",
       "    </tr>\n",
       "  </tbody>\n",
       "</table>\n",
       "</div>"
      ],
      "text/plain": [
       "       movie_language_id  movie_id language_code\n",
       "29006              29006    161315            en\n",
       "16303              16303     10030            en\n",
       "41164              41164    258947            en\n",
       "15901              15901     38907            ro\n",
       "24108              24108     58192            en"
      ]
     },
     "execution_count": 10,
     "metadata": {},
     "output_type": "execute_result"
    }
   ],
   "source": [
    "movie_spoken_language_df = movie_spoken_language_df[['movie_language_id','movie_id','language_code']]\n",
    "movie_spoken_language_df.sample(5)"
   ]
  },
  {
   "cell_type": "code",
   "execution_count": 11,
   "metadata": {},
   "outputs": [
    {
     "data": {
      "text/plain": [
       "(53300, 133)"
      ]
     },
     "execution_count": 11,
     "metadata": {},
     "output_type": "execute_result"
    }
   ],
   "source": [
    "len(movie_spoken_language_df), len(language_df)"
   ]
  },
  {
   "cell_type": "code",
   "execution_count": 12,
   "metadata": {},
   "outputs": [],
   "source": [
    "movie_spoken_language_df.to_csv('outdata/movie_spoken_language.csv',index=False)\n",
    "language_df.to_csv('outdata/spoken_language.csv',index=False)"
   ]
  },
  {
   "cell_type": "code",
   "execution_count": null,
   "metadata": {},
   "outputs": [],
   "source": []
  }
 ],
 "metadata": {
  "kernelspec": {
   "display_name": "Python 3",
   "language": "python",
   "name": "python3"
  },
  "language_info": {
   "codemirror_mode": {
    "name": "ipython",
    "version": 3
   },
   "file_extension": ".py",
   "mimetype": "text/x-python",
   "name": "python",
   "nbconvert_exporter": "python",
   "pygments_lexer": "ipython3",
   "version": "3.7.0"
  }
 },
 "nbformat": 4,
 "nbformat_minor": 2
}
