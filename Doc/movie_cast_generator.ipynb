{
 "cells": [
  {
   "cell_type": "code",
   "execution_count": 2,
   "metadata": {},
   "outputs": [],
   "source": [
    "import pandas as pd \n",
    "import numpy as np \n",
    "import ast"
   ]
  },
  {
   "cell_type": "code",
   "execution_count": 3,
   "metadata": {},
   "outputs": [],
   "source": [
    "# credits=pd.read_csv('data/credits.csv')\n",
    "# movies_metadata=pd.read_csv('data/movies_metadata.csv')\n",
    "\n",
    "# credits.to_pickle('data/credits.pkl')\n",
    "# movies_metadata.to_pickle('data/movies_metadata.pkl')\n",
    "\n",
    "credits=pd.read_pickle('data/credits.pkl')\n",
    "movies_metadata=pd.read_pickle('data/movies_metadata.pkl')"
   ]
  },
  {
   "cell_type": "code",
   "execution_count": 19,
   "metadata": {},
   "outputs": [
    {
     "data": {
      "text/html": [
       "<div>\n",
       "<style scoped>\n",
       "    .dataframe tbody tr th:only-of-type {\n",
       "        vertical-align: middle;\n",
       "    }\n",
       "\n",
       "    .dataframe tbody tr th {\n",
       "        vertical-align: top;\n",
       "    }\n",
       "\n",
       "    .dataframe thead th {\n",
       "        text-align: right;\n",
       "    }\n",
       "</style>\n",
       "<table border=\"1\" class=\"dataframe\">\n",
       "  <thead>\n",
       "    <tr style=\"text-align: right;\">\n",
       "      <th></th>\n",
       "      <th>id</th>\n",
       "      <th>cast</th>\n",
       "    </tr>\n",
       "  </thead>\n",
       "  <tbody>\n",
       "    <tr>\n",
       "      <th>0</th>\n",
       "      <td>862</td>\n",
       "      <td>[{'cast_id': 14, 'character': 'Woody (voice)',...</td>\n",
       "    </tr>\n",
       "    <tr>\n",
       "      <th>1</th>\n",
       "      <td>8844</td>\n",
       "      <td>[{'cast_id': 1, 'character': 'Alan Parrish', '...</td>\n",
       "    </tr>\n",
       "    <tr>\n",
       "      <th>2</th>\n",
       "      <td>15602</td>\n",
       "      <td>[{'cast_id': 2, 'character': 'Max Goldman', 'c...</td>\n",
       "    </tr>\n",
       "    <tr>\n",
       "      <th>3</th>\n",
       "      <td>31357</td>\n",
       "      <td>[{'cast_id': 1, 'character': \"Savannah 'Vannah...</td>\n",
       "    </tr>\n",
       "    <tr>\n",
       "      <th>4</th>\n",
       "      <td>11862</td>\n",
       "      <td>[{'cast_id': 1, 'character': 'George Banks', '...</td>\n",
       "    </tr>\n",
       "  </tbody>\n",
       "</table>\n",
       "</div>"
      ],
      "text/plain": [
       "      id                                               cast\n",
       "0    862  [{'cast_id': 14, 'character': 'Woody (voice)',...\n",
       "1   8844  [{'cast_id': 1, 'character': 'Alan Parrish', '...\n",
       "2  15602  [{'cast_id': 2, 'character': 'Max Goldman', 'c...\n",
       "3  31357  [{'cast_id': 1, 'character': \"Savannah 'Vannah...\n",
       "4  11862  [{'cast_id': 1, 'character': 'George Banks', '..."
      ]
     },
     "execution_count": 19,
     "metadata": {},
     "output_type": "execute_result"
    }
   ],
   "source": [
    "credits = credits[['id','cast']]\n",
    "credits.head()"
   ]
  },
  {
   "cell_type": "markdown",
   "metadata": {},
   "source": [
    "### HANDLE DATA"
   ]
  },
  {
   "cell_type": "code",
   "execution_count": 6,
   "metadata": {},
   "outputs": [],
   "source": [
    "def gender2str(n):\n",
    "    if n == 2:\n",
    "        return 'M'\n",
    "    else:\n",
    "        return 'F'"
   ]
  },
  {
   "cell_type": "code",
   "execution_count": 7,
   "metadata": {},
   "outputs": [],
   "source": [
    "# CREATE CAST DF\n",
    "cast_dict = dict()\n",
    "movie_cast_dict = dict()\n",
    "movie_cast_id = 0\n",
    "for cast_info, movie_id in zip(credits['cast'],credits['id']):\n",
    "    cast_info_list = ast.literal_eval(cast_info)\n",
    "    for ind_cast_info in cast_info_list:\n",
    "        cast_id = ind_cast_info['id']\n",
    "        if cast_id in cast_dict:\n",
    "            pass\n",
    "        else:\n",
    "            cast_value = {'gender':gender2str(ind_cast_info.get('gender')), 'profile_path':ind_cast_info.get('profile_path'), 'name':ind_cast_info.get('name')}\n",
    "            cast_dict[cast_id] = cast_value\n",
    "        movie_cast_value = {'id':movie_id, 'cast_id': cast_id, 'character': ind_cast_info.get('character'),'credit_id':ind_cast_info.get('credit_id')}\n",
    "        movie_cast_dict[movie_cast_id] = movie_cast_value\n",
    "        movie_cast_id += 1"
   ]
  },
  {
   "cell_type": "code",
   "execution_count": 8,
   "metadata": {},
   "outputs": [],
   "source": [
    "cast_df = pd.DataFrame.from_dict(cast_dict, orient = 'index')\n",
    "movie_cast_df = pd.DataFrame.from_dict(movie_cast_dict, orient = 'index')\n",
    "cast_df['cast_id'] = cast_df.index\n",
    "cast_df = cast_df.reset_index(drop = True)\n",
    "movie_cast_df['movie_cast_id'] = movie_cast_df.index\n",
    "movie_cast_df = movie_cast_df.reset_index(drop = True)"
   ]
  },
  {
   "cell_type": "code",
   "execution_count": 12,
   "metadata": {},
   "outputs": [
    {
     "data": {
      "text/html": [
       "<div>\n",
       "<style scoped>\n",
       "    .dataframe tbody tr th:only-of-type {\n",
       "        vertical-align: middle;\n",
       "    }\n",
       "\n",
       "    .dataframe tbody tr th {\n",
       "        vertical-align: top;\n",
       "    }\n",
       "\n",
       "    .dataframe thead tr th {\n",
       "        text-align: left;\n",
       "    }\n",
       "</style>\n",
       "<table border=\"1\" class=\"dataframe\">\n",
       "  <thead>\n",
       "    <tr>\n",
       "      <th></th>\n",
       "      <th>movie_cast_id</th>\n",
       "      <th>movie_id</th>\n",
       "      <th>cast_id</th>\n",
       "      <th>cast_character</th>\n",
       "    </tr>\n",
       "  </thead>\n",
       "  <tbody>\n",
       "    <tr>\n",
       "      <th>0</th>\n",
       "      <td>0</td>\n",
       "      <td>862</td>\n",
       "      <td>31</td>\n",
       "      <td>Woody (voice)</td>\n",
       "    </tr>\n",
       "    <tr>\n",
       "      <th>1</th>\n",
       "      <td>1</td>\n",
       "      <td>862</td>\n",
       "      <td>12898</td>\n",
       "      <td>Buzz Lightyear (voice)</td>\n",
       "    </tr>\n",
       "    <tr>\n",
       "      <th>2</th>\n",
       "      <td>2</td>\n",
       "      <td>862</td>\n",
       "      <td>7167</td>\n",
       "      <td>Mr. Potato Head (voice)</td>\n",
       "    </tr>\n",
       "    <tr>\n",
       "      <th>3</th>\n",
       "      <td>3</td>\n",
       "      <td>862</td>\n",
       "      <td>12899</td>\n",
       "      <td>Slinky Dog (voice)</td>\n",
       "    </tr>\n",
       "    <tr>\n",
       "      <th>4</th>\n",
       "      <td>4</td>\n",
       "      <td>862</td>\n",
       "      <td>12900</td>\n",
       "      <td>Rex (voice)</td>\n",
       "    </tr>\n",
       "  </tbody>\n",
       "</table>\n",
       "</div>"
      ],
      "text/plain": [
       "  movie_cast_id movie_id cast_id           cast_character\n",
       "0             0      862      31            Woody (voice)\n",
       "1             1      862   12898   Buzz Lightyear (voice)\n",
       "2             2      862    7167  Mr. Potato Head (voice)\n",
       "3             3      862   12899       Slinky Dog (voice)\n",
       "4             4      862   12900              Rex (voice)"
      ]
     },
     "execution_count": 12,
     "metadata": {},
     "output_type": "execute_result"
    }
   ],
   "source": [
    "movie_cast_df = movie_cast_df[['movie_cast_id','id','cast_id','character']]\n",
    "movie_cast_df.columns = [['movie_cast_id','movie_id','cast_id','cast_character']]\n",
    "movie_cast_df.head()"
   ]
  },
  {
   "cell_type": "code",
   "execution_count": 17,
   "metadata": {
    "scrolled": true
   },
   "outputs": [
    {
     "data": {
      "text/html": [
       "<div>\n",
       "<style scoped>\n",
       "    .dataframe tbody tr th:only-of-type {\n",
       "        vertical-align: middle;\n",
       "    }\n",
       "\n",
       "    .dataframe tbody tr th {\n",
       "        vertical-align: top;\n",
       "    }\n",
       "\n",
       "    .dataframe thead tr th {\n",
       "        text-align: left;\n",
       "    }\n",
       "</style>\n",
       "<table border=\"1\" class=\"dataframe\">\n",
       "  <thead>\n",
       "    <tr>\n",
       "      <th></th>\n",
       "      <th>cast_id</th>\n",
       "      <th>gender</th>\n",
       "      <th>cast_name</th>\n",
       "    </tr>\n",
       "  </thead>\n",
       "  <tbody>\n",
       "    <tr>\n",
       "      <th>0</th>\n",
       "      <td>1</td>\n",
       "      <td>M</td>\n",
       "      <td>George Lucas</td>\n",
       "    </tr>\n",
       "    <tr>\n",
       "      <th>1</th>\n",
       "      <td>2</td>\n",
       "      <td>M</td>\n",
       "      <td>Mark Hamill</td>\n",
       "    </tr>\n",
       "    <tr>\n",
       "      <th>2</th>\n",
       "      <td>3</td>\n",
       "      <td>M</td>\n",
       "      <td>Harrison Ford</td>\n",
       "    </tr>\n",
       "    <tr>\n",
       "      <th>3</th>\n",
       "      <td>4</td>\n",
       "      <td>F</td>\n",
       "      <td>Carrie Fisher</td>\n",
       "    </tr>\n",
       "    <tr>\n",
       "      <th>4</th>\n",
       "      <td>5</td>\n",
       "      <td>M</td>\n",
       "      <td>Peter Cushing</td>\n",
       "    </tr>\n",
       "  </tbody>\n",
       "</table>\n",
       "</div>"
      ],
      "text/plain": [
       "  cast_id gender      cast_name\n",
       "0       1      M   George Lucas\n",
       "1       2      M    Mark Hamill\n",
       "2       3      M  Harrison Ford\n",
       "3       4      F  Carrie Fisher\n",
       "4       5      M  Peter Cushing"
      ]
     },
     "execution_count": 17,
     "metadata": {},
     "output_type": "execute_result"
    }
   ],
   "source": [
    "cast_df = cast_df[['cast_id','gender','name']]\n",
    "cast_df.columns = [['cast_id','gender','cast_name']]\n",
    "cast_df.head()"
   ]
  },
  {
   "cell_type": "code",
   "execution_count": null,
   "metadata": {},
   "outputs": [],
   "source": [
    "movie_cast_df.to_csv('outdata/movie_cast.csv')\n",
    "cast_df.to_csv('outdata/cast.csv')"
   ]
  },
  {
   "cell_type": "code",
   "execution_count": null,
   "metadata": {},
   "outputs": [],
   "source": []
  }
 ],
 "metadata": {
  "kernelspec": {
   "display_name": "Python 3",
   "language": "python",
   "name": "python3"
  },
  "language_info": {
   "codemirror_mode": {
    "name": "ipython",
    "version": 3
   },
   "file_extension": ".py",
   "mimetype": "text/x-python",
   "name": "python",
   "nbconvert_exporter": "python",
   "pygments_lexer": "ipython3",
   "version": "3.7.0"
  }
 },
 "nbformat": 4,
 "nbformat_minor": 2
}
