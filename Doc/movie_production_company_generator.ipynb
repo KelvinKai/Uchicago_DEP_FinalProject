{
 "cells": [
  {
   "cell_type": "code",
   "execution_count": 1,
   "metadata": {},
   "outputs": [],
   "source": [
    "import pandas as pd \n",
    "import numpy as np \n",
    "import ast"
   ]
  },
  {
   "cell_type": "code",
   "execution_count": 2,
   "metadata": {},
   "outputs": [],
   "source": [
    "# movies_metadata=pd.read_csv('data/movies_metadata.csv')\n",
    "# movies_metadata.to_pickle('data/movies_metadata.pkl')\n",
    "\n",
    "movies=pd.read_pickle('data/movies_metadata.pkl')"
   ]
  },
  {
   "cell_type": "markdown",
   "metadata": {},
   "source": [
    "### HANDLE DATA"
   ]
  },
  {
   "cell_type": "code",
   "execution_count": 3,
   "metadata": {},
   "outputs": [],
   "source": [
    "# CREATE CAST DF\n",
    "pco_dict = dict()\n",
    "movie_pco_dict = dict()\n",
    "movie_pco_id = 0\n",
    "for pco_info, movie_id in zip(movies['production_companies'],movies['id']):\n",
    "    pco_info_list = ast.literal_eval(pco_info)\n",
    "    for ind_pco_info in pco_info_list:\n",
    "        pco_id = ind_pco_info['id']\n",
    "        if pco_id in pco_dict:\n",
    "            pass\n",
    "        else:\n",
    "            pco_value = {'pro_name':ind_pco_info.get('name')}\n",
    "            pco_dict[pco_id] = pco_value\n",
    "        movie_pco_value = {'movie_id':movie_id, 'pco_id': pco_id}\n",
    "        movie_pco_dict[movie_pco_id] = movie_pco_value\n",
    "        movie_pco_id += 1"
   ]
  },
  {
   "cell_type": "code",
   "execution_count": 4,
   "metadata": {},
   "outputs": [],
   "source": [
    "pco_df = pd.DataFrame.from_dict(pco_dict, orient = 'index')\n",
    "movie_pco_df = pd.DataFrame.from_dict(movie_pco_dict, orient = 'index')\n",
    "pco_df['pco_id'] = pco_df.index\n",
    "pco_df = pco_df.reset_index(drop = True)\n",
    "movie_pco_df['movie_pco_id'] = movie_pco_df.index\n",
    "movie_pco_df = movie_pco_df.reset_index(drop = True)"
   ]
  },
  {
   "cell_type": "code",
   "execution_count": 7,
   "metadata": {},
   "outputs": [
    {
     "data": {
      "text/html": [
       "<div>\n",
       "<style scoped>\n",
       "    .dataframe tbody tr th:only-of-type {\n",
       "        vertical-align: middle;\n",
       "    }\n",
       "\n",
       "    .dataframe tbody tr th {\n",
       "        vertical-align: top;\n",
       "    }\n",
       "\n",
       "    .dataframe thead tr th {\n",
       "        text-align: left;\n",
       "    }\n",
       "</style>\n",
       "<table border=\"1\" class=\"dataframe\">\n",
       "  <thead>\n",
       "    <tr>\n",
       "      <th></th>\n",
       "      <th>movie_production_co_id</th>\n",
       "      <th>movie_id</th>\n",
       "      <th>production_co_id</th>\n",
       "    </tr>\n",
       "  </thead>\n",
       "  <tbody>\n",
       "    <tr>\n",
       "      <th>0</th>\n",
       "      <td>0</td>\n",
       "      <td>862</td>\n",
       "      <td>3</td>\n",
       "    </tr>\n",
       "    <tr>\n",
       "      <th>1</th>\n",
       "      <td>1</td>\n",
       "      <td>8844</td>\n",
       "      <td>559</td>\n",
       "    </tr>\n",
       "    <tr>\n",
       "      <th>2</th>\n",
       "      <td>2</td>\n",
       "      <td>8844</td>\n",
       "      <td>2550</td>\n",
       "    </tr>\n",
       "    <tr>\n",
       "      <th>3</th>\n",
       "      <td>3</td>\n",
       "      <td>8844</td>\n",
       "      <td>10201</td>\n",
       "    </tr>\n",
       "    <tr>\n",
       "      <th>4</th>\n",
       "      <td>4</td>\n",
       "      <td>15602</td>\n",
       "      <td>6194</td>\n",
       "    </tr>\n",
       "  </tbody>\n",
       "</table>\n",
       "</div>"
      ],
      "text/plain": [
       "  movie_production_co_id movie_id production_co_id\n",
       "0                      0      862                3\n",
       "1                      1     8844              559\n",
       "2                      2     8844             2550\n",
       "3                      3     8844            10201\n",
       "4                      4    15602             6194"
      ]
     },
     "execution_count": 7,
     "metadata": {},
     "output_type": "execute_result"
    }
   ],
   "source": [
    "movie_pco_df.columns = [['movie_id','production_co_id','movie_production_co_id']]\n",
    "movie_pco_df = movie_pco_df[['movie_production_co_id','movie_id','production_co_id']]\n",
    "movie_pco_df.head()"
   ]
  },
  {
   "cell_type": "code",
   "execution_count": 11,
   "metadata": {},
   "outputs": [
    {
     "data": {
      "text/html": [
       "<div>\n",
       "<style scoped>\n",
       "    .dataframe tbody tr th:only-of-type {\n",
       "        vertical-align: middle;\n",
       "    }\n",
       "\n",
       "    .dataframe tbody tr th {\n",
       "        vertical-align: top;\n",
       "    }\n",
       "\n",
       "    .dataframe thead tr th {\n",
       "        text-align: left;\n",
       "    }\n",
       "</style>\n",
       "<table border=\"1\" class=\"dataframe\">\n",
       "  <thead>\n",
       "    <tr>\n",
       "      <th></th>\n",
       "      <th>production_co_id</th>\n",
       "      <th>production_co_name</th>\n",
       "    </tr>\n",
       "  </thead>\n",
       "  <tbody>\n",
       "    <tr>\n",
       "      <th>0</th>\n",
       "      <td>1</td>\n",
       "      <td>Lucasfilm</td>\n",
       "    </tr>\n",
       "    <tr>\n",
       "      <th>1</th>\n",
       "      <td>2</td>\n",
       "      <td>Walt Disney Pictures</td>\n",
       "    </tr>\n",
       "    <tr>\n",
       "      <th>2</th>\n",
       "      <td>3</td>\n",
       "      <td>Pixar Animation Studios</td>\n",
       "    </tr>\n",
       "    <tr>\n",
       "      <th>3</th>\n",
       "      <td>4</td>\n",
       "      <td>Paramount Pictures</td>\n",
       "    </tr>\n",
       "    <tr>\n",
       "      <th>4</th>\n",
       "      <td>5</td>\n",
       "      <td>Columbia Pictures</td>\n",
       "    </tr>\n",
       "  </tbody>\n",
       "</table>\n",
       "</div>"
      ],
      "text/plain": [
       "  production_co_id       production_co_name\n",
       "0                1                Lucasfilm\n",
       "1                2     Walt Disney Pictures\n",
       "2                3  Pixar Animation Studios\n",
       "3                4       Paramount Pictures\n",
       "4                5        Columbia Pictures"
      ]
     },
     "execution_count": 11,
     "metadata": {},
     "output_type": "execute_result"
    }
   ],
   "source": [
    "pco_df.columns = [['production_co_name','production_co_id']]\n",
    "pco_df = pco_df[['production_co_id','production_co_name']]\n",
    "pco_df.head()"
   ]
  },
  {
   "cell_type": "code",
   "execution_count": 12,
   "metadata": {},
   "outputs": [],
   "source": [
    "movie_pco_df.to_csv('outdata/movie_production_company.csv',index=False)\n",
    "pco_df.to_csv('outdata/production_company.csv',index=False)"
   ]
  },
  {
   "cell_type": "code",
   "execution_count": null,
   "metadata": {},
   "outputs": [],
   "source": []
  }
 ],
 "metadata": {
  "kernelspec": {
   "display_name": "Python 3",
   "language": "python",
   "name": "python3"
  },
  "language_info": {
   "codemirror_mode": {
    "name": "ipython",
    "version": 3
   },
   "file_extension": ".py",
   "mimetype": "text/x-python",
   "name": "python",
   "nbconvert_exporter": "python",
   "pygments_lexer": "ipython3",
   "version": "3.7.0"
  }
 },
 "nbformat": 4,
 "nbformat_minor": 2
}
